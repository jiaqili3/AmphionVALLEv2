{
 "cells": [
  {
   "cell_type": "code",
   "execution_count": null,
   "metadata": {},
   "outputs": [
    {
     "ename": "",
     "evalue": "",
     "output_type": "error",
     "traceback": [
      "\u001b[1;31mRunning cells with 'amphion_zhs (Python 3.9.15)' requires the ipykernel package.\n",
      "\u001b[1;31mRun the following command to install 'ipykernel' into the Python environment. \n",
      "\u001b[1;31mCommand: 'conda install -n amphion_zhs ipykernel --update-deps --force-reinstall'"
     ]
    }
   ],
   "source": [
    "endpoint='https://hf-mirror.com'"
   ]
  },
  {
   "cell_type": "code",
   "execution_count": null,
   "metadata": {},
   "outputs": [
    {
     "ename": "",
     "evalue": "",
     "output_type": "error",
     "traceback": [
      "\u001b[1;31mRunning cells with 'amphion_zhs (Python 3.9.15)' requires the ipykernel package.\n",
      "\u001b[1;31mRun the following command to install 'ipykernel' into the Python environment. \n",
      "\u001b[1;31mCommand: 'conda install -n amphion_zhs ipykernel --update-deps --force-reinstall'"
     ]
    }
   ],
   "source": [
    "# download pretrained checkpoints\n",
    "from huggingface_hub import hf_hub_download\n",
    "ar_model_path = hf_hub_download('jiaqili3/vallex', 'valle_ar_mls_encodec.bin', endpoint=endpoint)\n",
    "nar_model_path = hf_hub_download('jiaqili3/vallex', 'valle_nar_mls_encodec.bin', endpoint=endpoint)\n",
    "\n"
   ]
  },
  {
   "cell_type": "code",
   "execution_count": null,
   "metadata": {},
   "outputs": [
    {
     "ename": "",
     "evalue": "",
     "output_type": "error",
     "traceback": [
      "\u001b[1;31mRunning cells with 'amphion_zhs (Python 3.9.15)' requires the ipykernel package.\n",
      "\u001b[1;31mRun the following command to install 'ipykernel' into the Python environment. \n",
      "\u001b[1;31mCommand: 'conda install -n amphion_zhs ipykernel --update-deps --force-reinstall'"
     ]
    }
   ],
   "source": [
    "from models.tts.valle_gpt_simple.valle_inference import ValleInference\n",
    "# change to device='cuda' to use CUDA GPU for fast inference\n",
    "model = ValleInference(use_vocos=True, ar_path=ar_model_path, nar_path=nar_model_path, device='cpu')"
   ]
  },
  {
   "cell_type": "code",
   "execution_count": null,
   "metadata": {},
   "outputs": [
    {
     "ename": "",
     "evalue": "",
     "output_type": "error",
     "traceback": [
      "\u001b[1;31mRunning cells with 'amphion_zhs (Python 3.9.15)' requires the ipykernel package.\n",
      "\u001b[1;31mRun the following command to install 'ipykernel' into the Python environment. \n",
      "\u001b[1;31mCommand: 'conda install -n amphion_zhs ipykernel --update-deps --force-reinstall'"
     ]
    }
   ],
   "source": [
    "# prepare inference data\n",
    "import librosa\n",
    "wav = librosa.load()"
   ]
  }
 ],
 "metadata": {
  "kernelspec": {
   "display_name": "amphion",
   "language": "python",
   "name": "python3"
  },
  "language_info": {
   "codemirror_mode": {
    "name": "ipython",
    "version": 3
   },
   "file_extension": ".py",
   "mimetype": "text/x-python",
   "name": "python",
   "nbconvert_exporter": "python",
   "pygments_lexer": "ipython3",
   "version": "3.9.15"
  }
 },
 "nbformat": 4,
 "nbformat_minor": 2
}
